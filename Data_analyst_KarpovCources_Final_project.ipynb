{
 "cells": [
  {
   "cell_type": "markdown",
   "id": "56630253",
   "metadata": {},
   "source": [
    "# <span style = \"color:green\">Финальный проект на курсе \"Анализ данных\" на KARPOV.COURCES <span>"
   ]
  },
  {
   "cell_type": "code",
   "execution_count": 1,
   "id": "9a922232",
   "metadata": {},
   "outputs": [],
   "source": [
    "import pandas as pd\n",
    "import seaborn as sns\n",
    "import numpy as np\n",
    "import os\n",
    "import matplotlib.pyplot as plt\n",
    "import pandahouse as ph\n",
    "\n",
    "import requests\n",
    "from urllib.parse import urlencode\n",
    "\n",
    "from scipy.stats import ttest_ind\n",
    "from scipy.stats import chi2_contingency\n",
    "\n",
    "%matplotlib inline\n",
    "plt.rcParams[\"figure.figsize\"] = [15, 5]"
   ]
  },
  {
   "cell_type": "markdown",
   "id": "b5ea70b9",
   "metadata": {},
   "source": [
    "# <span style=\"color:blue\">Задание 1. A/B - тестирование<span>"
   ]
  },
  {
   "cell_type": "markdown",
   "id": "562d2a3a",
   "metadata": {},
   "source": [
    "## Первичный анализ данных"
   ]
  },
  {
   "cell_type": "code",
   "execution_count": 2,
   "id": "86405162",
   "metadata": {},
   "outputs": [],
   "source": [
    "# использование api \n",
    "def url(public_key):\n",
    "    base_url = 'https://cloud-api.yandex.net/v1/disk/public/resources/download?' \n",
    "    final_url = base_url + urlencode(dict(public_key=public_key))\n",
    "    response_active = requests.get(final_url)\n",
    "    download_url = response_active.json()['href']\n",
    "    return download_url"
   ]
  },
  {
   "cell_type": "code",
   "execution_count": 3,
   "id": "d4f42a22",
   "metadata": {},
   "outputs": [],
   "source": [
    "url_actives = url('https://disk.yandex.ru/d/Tbs44Bm6H_FwFQ' )\n",
    "active = pd.read_csv(url_actives)\n",
    "url_checks = url('https://disk.yandex.ru/d/pH1q-VqcxXjsVA')\n",
    "checks = pd.read_csv(url_checks, sep=';')\n",
    "url_groups = url('https://disk.yandex.ru/d/UhyYx41rTt3clQ' )\n",
    "groups = pd.read_csv(url_groups, sep=';')\n",
    "url_group_add = url('https://disk.yandex.ru/d/5Kxrz02m3IBUwQ')\n",
    "group_add = pd.read_csv(url_group_add)"
   ]
  },
  {
   "cell_type": "markdown",
   "id": "0dcc131d",
   "metadata": {},
   "source": [
    "Изменим наименования столбцов"
   ]
  },
  {
   "cell_type": "code",
   "execution_count": 4,
   "id": "8b98f4f7",
   "metadata": {},
   "outputs": [],
   "source": [
    "groups.rename(columns = {'id':'student_id',\n",
    "                         'grp':'group'}, inplace = True)"
   ]
  },
  {
   "cell_type": "code",
   "execution_count": 5,
   "id": "4c195e60",
   "metadata": {},
   "outputs": [
    {
     "name": "stdout",
     "output_type": "stream",
     "text": [
      "Общее количество униальных пользователей: 74484\n",
      "A: 14671 19.70%\n",
      "B: 59813 80.30%\n"
     ]
    }
   ],
   "source": [
    "print('Общее количество униальных пользователей:', groups.student_id.count())\n",
    "print('A:',\n",
    "      groups.query('group == \"A\"').student_id.count(),\n",
    "      \"{:.2%}\".format(groups.query('group == \"A\"').student_id.count()/groups.student_id.count()))\n",
    "print('B:',\n",
    "      groups.query('group == \"B\"').student_id.count(),\n",
    "      \"{:.2%}\".format(groups.query('group == \"B\"').student_id.count()/groups.student_id.count()))"
   ]
  },
  {
   "cell_type": "markdown",
   "id": "63474e83",
   "metadata": {},
   "source": [
    "Все ли активные пользователи приняли участие в АБ-тесте?"
   ]
  },
  {
   "cell_type": "code",
   "execution_count": 6,
   "id": "ccaf2025",
   "metadata": {},
   "outputs": [
    {
     "data": {
      "text/html": [
       "<div>\n",
       "<style scoped>\n",
       "    .dataframe tbody tr th:only-of-type {\n",
       "        vertical-align: middle;\n",
       "    }\n",
       "\n",
       "    .dataframe tbody tr th {\n",
       "        vertical-align: top;\n",
       "    }\n",
       "\n",
       "    .dataframe thead th {\n",
       "        text-align: right;\n",
       "    }\n",
       "</style>\n",
       "<table border=\"1\" class=\"dataframe\">\n",
       "  <thead>\n",
       "    <tr style=\"text-align: right;\">\n",
       "      <th></th>\n",
       "      <th>student_id</th>\n",
       "      <th>group</th>\n",
       "    </tr>\n",
       "  </thead>\n",
       "  <tbody>\n",
       "    <tr>\n",
       "      <th>1</th>\n",
       "      <td>5723133</td>\n",
       "      <td>NaN</td>\n",
       "    </tr>\n",
       "    <tr>\n",
       "      <th>111</th>\n",
       "      <td>5951797</td>\n",
       "      <td>NaN</td>\n",
       "    </tr>\n",
       "    <tr>\n",
       "      <th>632</th>\n",
       "      <td>5730382</td>\n",
       "      <td>NaN</td>\n",
       "    </tr>\n",
       "    <tr>\n",
       "      <th>2662</th>\n",
       "      <td>5739944</td>\n",
       "      <td>NaN</td>\n",
       "    </tr>\n",
       "    <tr>\n",
       "      <th>3830</th>\n",
       "      <td>5945085</td>\n",
       "      <td>NaN</td>\n",
       "    </tr>\n",
       "    <tr>\n",
       "      <th>4900</th>\n",
       "      <td>5700613</td>\n",
       "      <td>NaN</td>\n",
       "    </tr>\n",
       "    <tr>\n",
       "      <th>5254</th>\n",
       "      <td>5729371</td>\n",
       "      <td>NaN</td>\n",
       "    </tr>\n",
       "    <tr>\n",
       "      <th>5746</th>\n",
       "      <td>5777081</td>\n",
       "      <td>NaN</td>\n",
       "    </tr>\n",
       "    <tr>\n",
       "      <th>7413</th>\n",
       "      <td>5740903</td>\n",
       "      <td>NaN</td>\n",
       "    </tr>\n",
       "    <tr>\n",
       "      <th>7505</th>\n",
       "      <td>5760471</td>\n",
       "      <td>NaN</td>\n",
       "    </tr>\n",
       "    <tr>\n",
       "      <th>7535</th>\n",
       "      <td>5728431</td>\n",
       "      <td>NaN</td>\n",
       "    </tr>\n",
       "    <tr>\n",
       "      <th>7647</th>\n",
       "      <td>5723648</td>\n",
       "      <td>NaN</td>\n",
       "    </tr>\n",
       "    <tr>\n",
       "      <th>7668</th>\n",
       "      <td>5870856</td>\n",
       "      <td>NaN</td>\n",
       "    </tr>\n",
       "  </tbody>\n",
       "</table>\n",
       "</div>"
      ],
      "text/plain": [
       "      student_id group\n",
       "1        5723133   NaN\n",
       "111      5951797   NaN\n",
       "632      5730382   NaN\n",
       "2662     5739944   NaN\n",
       "3830     5945085   NaN\n",
       "4900     5700613   NaN\n",
       "5254     5729371   NaN\n",
       "5746     5777081   NaN\n",
       "7413     5740903   NaN\n",
       "7505     5760471   NaN\n",
       "7535     5728431   NaN\n",
       "7647     5723648   NaN\n",
       "7668     5870856   NaN"
      ]
     },
     "execution_count": 6,
     "metadata": {},
     "output_type": "execute_result"
    }
   ],
   "source": [
    "act_group = active.merge(groups, how = 'left', on = 'student_id')\n",
    "act_group[act_group.group.isnull()]"
   ]
  },
  {
   "cell_type": "markdown",
   "id": "fb8d7761",
   "metadata": {},
   "source": [
    "Имеются пользователи, не получившие метки группы, и все student_id примерно одного значения"
   ]
  },
  {
   "cell_type": "code",
   "execution_count": 7,
   "id": "083723ec",
   "metadata": {},
   "outputs": [
    {
     "name": "stdout",
     "output_type": "stream",
     "text": [
      "Максимальный student_id в groups: 5694419\n",
      "Максимальный student_id в checks: 5740903\n"
     ]
    }
   ],
   "source": [
    "print('Максимальный student_id в groups:',groups.student_id.max())\n",
    "print('Максимальный student_id в checks:',checks.student_id.max())"
   ]
  },
  {
   "cell_type": "markdown",
   "id": "49ed77c9",
   "metadata": {},
   "source": [
    "Видим, что пользователи, не получившие свои метки, имеют student_id больше, чем в таблицах groups и checks. <br>\n",
    "Возможно имеет место ошибка при выгрузке данных"
   ]
  },
  {
   "cell_type": "code",
   "execution_count": 8,
   "id": "2d437869",
   "metadata": {},
   "outputs": [
    {
     "data": {
      "text/html": [
       "<div>\n",
       "<style scoped>\n",
       "    .dataframe tbody tr th:only-of-type {\n",
       "        vertical-align: middle;\n",
       "    }\n",
       "\n",
       "    .dataframe tbody tr th {\n",
       "        vertical-align: top;\n",
       "    }\n",
       "\n",
       "    .dataframe thead th {\n",
       "        text-align: right;\n",
       "    }\n",
       "</style>\n",
       "<table border=\"1\" class=\"dataframe\">\n",
       "  <thead>\n",
       "    <tr style=\"text-align: right;\">\n",
       "      <th></th>\n",
       "      <th>student_id</th>\n",
       "      <th>rev</th>\n",
       "      <th>group</th>\n",
       "    </tr>\n",
       "  </thead>\n",
       "  <tbody>\n",
       "    <tr>\n",
       "      <th>540</th>\n",
       "      <td>5740903</td>\n",
       "      <td>1900.0</td>\n",
       "      <td>NaN</td>\n",
       "    </tr>\n",
       "  </tbody>\n",
       "</table>\n",
       "</div>"
      ],
      "text/plain": [
       "     student_id     rev group\n",
       "540     5740903  1900.0   NaN"
      ]
     },
     "execution_count": 8,
     "metadata": {},
     "output_type": "execute_result"
    }
   ],
   "source": [
    "checks_group = checks.merge(groups, how = 'left', on = 'student_id')\n",
    "checks_group[checks_group.group.isnull()]"
   ]
  },
  {
   "cell_type": "code",
   "execution_count": 9,
   "id": "b3dbbeb5",
   "metadata": {},
   "outputs": [
    {
     "name": "stdout",
     "output_type": "stream",
     "text": [
      "Пользователи checks, отсутствующие в active 149\n",
      "Сумма пользователей checks, отсутствующих в active 105532.0001\n"
     ]
    }
   ],
   "source": [
    "checks_active = checks.merge(active, how = 'outer', on = 'student_id',indicator = True)\n",
    "print('Пользователи checks, отсутствующие в active',checks_active.query('_merge == \"left_only\"').student_id.count())\n",
    "print('Сумма пользователей checks, отсутствующих в active',checks_active.query('_merge == \"left_only\"').rev.sum())"
   ]
  },
  {
   "cell_type": "markdown",
   "id": "beff8898",
   "metadata": {},
   "source": [
    "Не все пользователи из checks присутствуют в active. При этом и доля самих этих пользователей в checks и их сумма значительны"
   ]
  },
  {
   "cell_type": "code",
   "execution_count": 10,
   "id": "9e1e495f",
   "metadata": {},
   "outputs": [
    {
     "name": "stdout",
     "output_type": "stream",
     "text": [
      "Доля пользователей checks, отсутствующих в active: 27.54%\n",
      "Доля суммы пользователей checks, отсутствующих в active: 18.41%\n"
     ]
    }
   ],
   "source": [
    "print('Доля пользователей checks, отсутствующих в active:',\n",
    "      \"{:.2%}\".format(checks_active.query('_merge == \"left_only\"').student_id.count()/checks.student_id.count()))\n",
    "print('Доля суммы пользователей checks, отсутствующих в active:',\n",
    "      \"{:.2%}\".format(checks_active.query('_merge == \"left_only\"').rev.sum()/checks.rev.sum()))"
   ]
  },
  {
   "cell_type": "markdown",
   "id": "98c9aef7",
   "metadata": {},
   "source": [
    "Вероятнее всего эти пользователи, не смотря на наличие чеков, действительно не проявляли активности в период теста и соответственно не принимали участие в самом тесте"
   ]
  },
  {
   "cell_type": "markdown",
   "id": "db1587f9",
   "metadata": {},
   "source": [
    "Также я заметил \"странный\" чек на сумму 1900.0001, который выбивается из общего ряда. Думаю его стоит заменить на 1900"
   ]
  },
  {
   "cell_type": "code",
   "execution_count": 11,
   "id": "8f2c4aec",
   "metadata": {},
   "outputs": [],
   "source": [
    "checks.rev.replace(1900.0001,1900.0,inplace = True)"
   ]
  },
  {
   "cell_type": "markdown",
   "id": "6b7c358d",
   "metadata": {},
   "source": [
    "Построим распределение сумм"
   ]
  },
  {
   "cell_type": "code",
   "execution_count": 12,
   "id": "fd2436e1",
   "metadata": {},
   "outputs": [
    {
     "name": "stderr",
     "output_type": "stream",
     "text": [
      "C:\\Users\\Admin\\anaconda3\\lib\\site-packages\\seaborn\\distributions.py:2619: FutureWarning: `distplot` is a deprecated function and will be removed in a future version. Please adapt your code to use either `displot` (a figure-level function with similar flexibility) or `histplot` (an axes-level function for histograms).\n",
      "  warnings.warn(msg, FutureWarning)\n"
     ]
    },
    {
     "data": {
      "text/plain": [
       "Text(0, 0.5, 'Пользователи, чел.')"
      ]
     },
     "execution_count": 12,
     "metadata": {},
     "output_type": "execute_result"
    },
    {
     "data": {
      "image/png": "[encoded data removed]",
      "text/plain": [
       "<Figure size 1080x360 with 1 Axes>"
      ]
     },
     "metadata": {
      "needs_background": "light"
     },
     "output_type": "display_data"
    }
   ],
   "source": [
    "sns.distplot(checks.rev)\n",
    "plt.title('Распределение сумм')\n",
    "plt.xlabel('Суммы, руб.')\n",
    "plt.ylabel('Пользователи, чел.')"
   ]
  },
  {
   "cell_type": "markdown",
   "id": "97a685c4",
   "metadata": {},
   "source": [
    "Соберем итоговый датафрей. Возьмем активных пользователей с метками группы АБ-теста"
   ]
  },
  {
   "cell_type": "code",
   "execution_count": 13,
   "id": "b9e6bc94",
   "metadata": {},
   "outputs": [],
   "source": [
    "final_df = active.merge(checks, how = 'left', on = 'student_id')\n",
    "final_df = final_df.merge(groups, how = 'inner', on = 'student_id')\n",
    "final_df['paid'] = final_df.rev.apply(lambda x: 1 if x > 0 else 0)"
   ]
  },
  {
   "cell_type": "code",
   "execution_count": 14,
   "id": "913f6c5f",
   "metadata": {},
   "outputs": [
    {
     "data": {
      "text/html": [
       "<div>\n",
       "<style scoped>\n",
       "    .dataframe tbody tr th:only-of-type {\n",
       "        vertical-align: middle;\n",
       "    }\n",
       "\n",
       "    .dataframe tbody tr th {\n",
       "        vertical-align: top;\n",
       "    }\n",
       "\n",
       "    .dataframe thead th {\n",
       "        text-align: right;\n",
       "    }\n",
       "</style>\n",
       "<table border=\"1\" class=\"dataframe\">\n",
       "  <thead>\n",
       "    <tr style=\"text-align: right;\">\n",
       "      <th></th>\n",
       "      <th>student_id</th>\n",
       "      <th>rev</th>\n",
       "      <th>group</th>\n",
       "      <th>paid</th>\n",
       "    </tr>\n",
       "  </thead>\n",
       "  <tbody>\n",
       "    <tr>\n",
       "      <th>0</th>\n",
       "      <td>581585</td>\n",
       "      <td>NaN</td>\n",
       "      <td>A</td>\n",
       "      <td>0</td>\n",
       "    </tr>\n",
       "    <tr>\n",
       "      <th>1</th>\n",
       "      <td>3276743</td>\n",
       "      <td>NaN</td>\n",
       "      <td>B</td>\n",
       "      <td>0</td>\n",
       "    </tr>\n",
       "    <tr>\n",
       "      <th>2</th>\n",
       "      <td>4238589</td>\n",
       "      <td>NaN</td>\n",
       "      <td>A</td>\n",
       "      <td>0</td>\n",
       "    </tr>\n",
       "    <tr>\n",
       "      <th>3</th>\n",
       "      <td>4475369</td>\n",
       "      <td>NaN</td>\n",
       "      <td>B</td>\n",
       "      <td>0</td>\n",
       "    </tr>\n",
       "    <tr>\n",
       "      <th>4</th>\n",
       "      <td>5481015</td>\n",
       "      <td>NaN</td>\n",
       "      <td>B</td>\n",
       "      <td>0</td>\n",
       "    </tr>\n",
       "  </tbody>\n",
       "</table>\n",
       "</div>"
      ],
      "text/plain": [
       "   student_id  rev group  paid\n",
       "0      581585  NaN     A     0\n",
       "1     3276743  NaN     B     0\n",
       "2     4238589  NaN     A     0\n",
       "3     4475369  NaN     B     0\n",
       "4     5481015  NaN     B     0"
      ]
     },
     "execution_count": 14,
     "metadata": {},
     "output_type": "execute_result"
    }
   ],
   "source": [
    "final_df.head()"
   ]
  },
  {
   "cell_type": "markdown",
   "id": "cb6a5e40",
   "metadata": {},
   "source": [
    "## Анализ A/B - теста"
   ]
  },
  {
   "cell_type": "markdown",
   "id": "3fd527b9",
   "metadata": {},
   "source": [
    "1) Нулевая гипотеза: при внедрении новой механики оплаты на сайте конверсия не изменится <br>\n",
    "2) Уровено значимости: 0.05 <br>\n",
    "3) Метрика: конверсия в покупку. <br>\n",
    "Проверим эту метрику, так как основное воздействие новой механики оплаты должно быть именно на нее. При этом дополнительно проверим изменение среднего чека и среднего чека платящего пользователя <br>\n",
    "CR<br>\n",
    "ARPU <br>\n",
    "ARPPU<br>"
   ]
  },
  {
   "cell_type": "code",
   "execution_count": 15,
   "id": "ab9d1f22",
   "metadata": {},
   "outputs": [
    {
     "name": "stdout",
     "output_type": "stream",
     "text": [
      "Общее количество униальных пользователей: 8328\n",
      "A: 1535 18.43%\n",
      "B: 6793 81.57%\n"
     ]
    }
   ],
   "source": [
    "final_df.groupby('group',as_index = False)\\\n",
    "    .agg({'student_id':'count'})\n",
    "print('Общее количество униальных пользователей:', final_df.student_id.count())\n",
    "print('A:',\n",
    "      final_df.query('group == \"A\"').student_id.count(),\n",
    "      \"{:.2%}\".format(final_df.query('group == \"A\"').student_id.count()/final_df.student_id.count()))\n",
    "print('B:',\n",
    "      final_df.query('group == \"B\"').student_id.count(),\n",
    "      \"{:.2%}\".format(final_df.query('group == \"B\"').student_id.count()/final_df.student_id.count()))"
   ]
  },
  {
   "cell_type": "markdown",
   "id": "d705cd13",
   "metadata": {},
   "source": [
    "Как можем заметить распределение пользователей по группам неравномерное. Это видимо связано с тем, что пользователи были распределены заранее и так вышло, что большая часть активных пришлась на тестовую группу. <br>\n",
    "Желательно чтобы распределение было 50/50. Я думаю лучше бы было, если пользователя определяли в группу на этапе входа на сайт, что уже говорит о его активности"
   ]
  },
  {
   "cell_type": "markdown",
   "id": "d44f7412",
   "metadata": {},
   "source": [
    "Посчитаем метрики для групп"
   ]
  },
  {
   "cell_type": "code",
   "execution_count": 16,
   "id": "8abc6599",
   "metadata": {},
   "outputs": [
    {
     "data": {
      "text/html": [
       "<div>\n",
       "<style scoped>\n",
       "    .dataframe tbody tr th:only-of-type {\n",
       "        vertical-align: middle;\n",
       "    }\n",
       "\n",
       "    .dataframe tbody tr th {\n",
       "        vertical-align: top;\n",
       "    }\n",
       "\n",
       "    .dataframe thead th {\n",
       "        text-align: right;\n",
       "    }\n",
       "</style>\n",
       "<table border=\"1\" class=\"dataframe\">\n",
       "  <thead>\n",
       "    <tr style=\"text-align: right;\">\n",
       "      <th></th>\n",
       "      <th>Группа</th>\n",
       "      <th>Количество пользователей</th>\n",
       "      <th>Количество оплативших пользователей</th>\n",
       "      <th>Количество неоплативших пользователей</th>\n",
       "      <th>Выручка</th>\n",
       "      <th>CR</th>\n",
       "      <th>ARPU</th>\n",
       "      <th>ARPPU</th>\n",
       "    </tr>\n",
       "  </thead>\n",
       "  <tbody>\n",
       "    <tr>\n",
       "      <th>0</th>\n",
       "      <td>A</td>\n",
       "      <td>1535</td>\n",
       "      <td>78</td>\n",
       "      <td>1457</td>\n",
       "      <td>72820.0</td>\n",
       "      <td>5.10%</td>\n",
       "      <td>47.44</td>\n",
       "      <td>933.59</td>\n",
       "    </tr>\n",
       "    <tr>\n",
       "      <th>1</th>\n",
       "      <td>B</td>\n",
       "      <td>6793</td>\n",
       "      <td>313</td>\n",
       "      <td>6480</td>\n",
       "      <td>393074.0</td>\n",
       "      <td>4.60%</td>\n",
       "      <td>57.86</td>\n",
       "      <td>1255.83</td>\n",
       "    </tr>\n",
       "  </tbody>\n",
       "</table>\n",
       "</div>"
      ],
      "text/plain": [
       "  Группа  Количество пользователей  Количество оплативших пользователей  \\\n",
       "0      A                      1535                                   78   \n",
       "1      B                      6793                                  313   \n",
       "\n",
       "   Количество неоплативших пользователей   Выручка     CR   ARPU    ARPPU  \n",
       "0                                   1457   72820.0  5.10%  47.44   933.59  \n",
       "1                                   6480  393074.0  4.60%  57.86  1255.83  "
      ]
     },
     "execution_count": 16,
     "metadata": {},
     "output_type": "execute_result"
    }
   ],
   "source": [
    "metrics = final_df.groupby('group',as_index = False)\\\n",
    "                    .aggregate({'student_id':'count',\n",
    "                                'rev':'sum'})\\\n",
    "                    .rename(columns = {'student_id':'users'})\n",
    "\n",
    "metrics['paying_users'] = final_df.query('paid == 1')\\\n",
    "                            .groupby('group',as_index = False)\\\n",
    "                            .agg({'student_id':'count'}).student_id\n",
    "metrics['not_paying_users'] = final_df.query('paid == 0')\\\n",
    "                            .groupby('group',as_index = False)\\\n",
    "                            .agg({'student_id':'count'}).student_id\n",
    "\n",
    "metrics['CR'] = (metrics.paying_users/metrics.users).round(3).apply(\"{:.2%}\".format)\n",
    "metrics['ARPU'] = (metrics.rev/metrics.users).round(2)\n",
    "metrics['ARPPU'] = (metrics.rev/metrics.paying_users).round(2)\n",
    "metrics = metrics[['group', 'users', 'paying_users', 'not_paying_users',  'rev','CR', 'ARPU', 'ARPPU']]\n",
    "metrics.rename(columns = {\n",
    "    'group':'Группа',\n",
    "    'users':'Количество пользователей',\n",
    "    'paying_users':'Количество оплативших пользователей',\n",
    "    'not_paying_users':'Количество неоплативших пользователей',\n",
    "    'rev':'Выручка'\n",
    "})"
   ]
  },
  {
   "cell_type": "markdown",
   "id": "6cb09135",
   "metadata": {},
   "source": [
    "Значения CR, ARPU, ARPPU выше в тестовой группе <br> \n",
    "Теперь проверим значения статистически <br> \n",
    "Для конверсии будет использовать критерий Хи - квадрат, так как показатель качественный"
   ]
  },
  {
   "cell_type": "code",
   "execution_count": 17,
   "id": "07da5a53",
   "metadata": {},
   "outputs": [
    {
     "name": "stdout",
     "output_type": "stream",
     "text": [
      "Хи-квадрат p-value:  42.81%\n"
     ]
    }
   ],
   "source": [
    "A = metrics.set_index('group')[['not_paying_users', 'paying_users']].loc['A'].to_list()\n",
    "B = metrics.set_index('group')[['not_paying_users', 'paying_users']].loc['B'].to_list()\n",
    "chi2, p, dof, ex = chi2_contingency([A, B], correction=False)\n",
    "\n",
    "print(\"Хи-квадрат p-value: \",\"{:.2%}\".format(p))"
   ]
  },
  {
   "cell_type": "markdown",
   "id": "7a291d4b",
   "metadata": {},
   "source": [
    "В итоге вероятность получить значение конверсии как в тестовой группе 42,81%, что значимо и не позволяет отклонить нулевую гипотезу.<br>\n",
    "Отсюда следует, что изменение CR от смены метода оплаты статистически незначимо"
   ]
  },
  {
   "cell_type": "code",
   "execution_count": 18,
   "id": "2f6d54d9",
   "metadata": {},
   "outputs": [
    {
     "data": {
      "text/plain": [
       "Text(0, 0.5, 'Пользователи, чел.')"
      ]
     },
     "execution_count": 18,
     "metadata": {},
     "output_type": "execute_result"
    },
    {
     "data": {
      "image/png": "[encoded data removed]",
      "text/plain": [
       "<Figure size 1080x360 with 1 Axes>"
      ]
     },
     "metadata": {
      "needs_background": "light"
     },
     "output_type": "display_data"
    }
   ],
   "source": [
    "sns.histplot(data = final_df, x=\"rev\", hue='group', multiple='dodge')\n",
    "plt.title('Распределение сумм по группам')\n",
    "plt.xlabel('Суммы, руб.')\n",
    "plt.ylabel('Пользователи, чел.')"
   ]
  },
  {
   "cell_type": "markdown",
   "id": "a1f5f3e3",
   "metadata": {},
   "source": [
    "По распределению выше можно заметить, что самый популярный чек был в тестовой группе. <br>\n",
    "Есть предположение, что помимо измнения метода оплаты была еще введена другая акция или иное изменение. Из-за чего можно сделать вывод, что эксперимент не является чистым и было также внесено изменение, о котором не было сказано в начале. <br>\n",
    "В ином случае данный чек должен был бы быть популярен у обоих групп <br>\n",
    "<br>\n",
    "Проверим с помощью t-теста распределение чеков по всем пользователям и пользователям с отплатой"
   ]
  },
  {
   "cell_type": "code",
   "execution_count": 19,
   "id": "9a816315",
   "metadata": {},
   "outputs": [
    {
     "name": "stdout",
     "output_type": "stream",
     "text": [
      "p-value: 0.23288011573839099\n"
     ]
    }
   ],
   "source": [
    "# Средний чек пользователей\n",
    "p = ttest_ind(final_df.fillna(0).query('group == \"A\"').rev,\n",
    "                final_df.fillna(0).query('group == \"B\"').rev)[1]\n",
    "print('p-value:',p)"
   ]
  },
  {
   "cell_type": "code",
   "execution_count": 20,
   "id": "01d1bd3c",
   "metadata": {},
   "outputs": [
    {
     "name": "stdout",
     "output_type": "stream",
     "text": [
      "p-value: 0.001999178560469943\n"
     ]
    }
   ],
   "source": [
    "# Средний чек на пользователей с оплатой\n",
    "p = ttest_ind(final_df.fillna(0).query('group == \"A\" & paid == 1').rev,\n",
    "                final_df.fillna(0).query('group == \"B\" & paid == 1').rev)[1]\n",
    "print('p-value:',p)"
   ]
  },
  {
   "cell_type": "markdown",
   "id": "76ab6602",
   "metadata": {},
   "source": [
    "По итогам тестов показатель ARPU (средний чек пользователя) изменился статистически незначимо, так как p-value > 0.05 и мы не можем отклонить нулевую гипотезу. А средний чек платящего пользователя ARPPU изменился статистически значимо (p-value = 0.002) и мы не можем принять нулевую гипотезу о том, что новый мезанизм не влияет на величину показателя."
   ]
  },
  {
   "cell_type": "markdown",
   "id": "63a1db6b",
   "metadata": {},
   "source": [
    "## Вывод"
   ]
  },
  {
   "cell_type": "markdown",
   "id": "6e3a69ed",
   "metadata": {},
   "source": [
    "В результате проведения A/B-теста было выявлено, что новая механика оплаты на сайте не влияет на конверсию в покупку. Для оценки был выбран критерий Хи-квадрат. Посчитанное значение p-value составило ~43%/. <br>\n",
    "Также с помощью t-теста были проверены проказатели среднего чека пользователя и среднего чека платящего пользователя. По итогам тестов показатель ARPU имел значения 47,4 в контрольной и 57,9 в тестовой, но это изменение было незначимо, так как p-value = 0,2. В то время как у показателя ARPPU в контрольной группе было значение 933.6, а в тестовой 1255.8, p-value = 0.002, что говорит о том, что изменение механики статистически значимо повлияло на средний чек платящего пользователя. <br>\n",
    "<br>\n",
    "Также хочу заметить следующее: <br>\n",
    "1) соотношение тестовой и контрольной группы по количеству пользователей было неравномерным, желательно иметь соотношение 50/50. Стоит подумать над другом методом отбора контроьной и тестовой группы <br>\n",
    "2) Наблюдалось большое количество пользователей в тестовой группе с чеком 1900. Возможно имела места другая акция или иное изменение, которое повлияло на эксперимент, из-за чего результат нельзя считать полностью достоверным"
   ]
  },
  {
   "cell_type": "markdown",
   "id": "2cd76bce",
   "metadata": {},
   "source": [
    "# <span style=\"color:blue\">Задание 2. SQL<span>"
   ]
  },
  {
   "cell_type": "code",
   "execution_count": 21,
   "id": "8d580aa7",
   "metadata": {},
   "outputs": [],
   "source": [
    "#объявляем параметры подключения\n",
    "connection_default = {'host': 'https://clickhouse.lab.karpov.courses',\n",
    "                      'database':'default',\n",
    "                      'user':'student', \n",
    "                      'password':'dpo_python_2020'\n",
    "                     }"
   ]
  },
  {
   "cell_type": "code",
   "execution_count": 22,
   "id": "c69070d8",
   "metadata": {},
   "outputs": [
    {
     "data": {
      "text/html": [
       "<div>\n",
       "<style scoped>\n",
       "    .dataframe tbody tr th:only-of-type {\n",
       "        vertical-align: middle;\n",
       "    }\n",
       "\n",
       "    .dataframe tbody tr th {\n",
       "        vertical-align: top;\n",
       "    }\n",
       "\n",
       "    .dataframe thead th {\n",
       "        text-align: right;\n",
       "    }\n",
       "</style>\n",
       "<table border=\"1\" class=\"dataframe\">\n",
       "  <thead>\n",
       "    <tr style=\"text-align: right;\">\n",
       "      <th></th>\n",
       "      <th>diligent_students</th>\n",
       "    </tr>\n",
       "  </thead>\n",
       "  <tbody>\n",
       "    <tr>\n",
       "      <th>0</th>\n",
       "      <td>136</td>\n",
       "    </tr>\n",
       "  </tbody>\n",
       "</table>\n",
       "</div>"
      ],
      "text/plain": [
       "   diligent_students\n",
       "0                136"
      ]
     },
     "execution_count": 22,
     "metadata": {},
     "output_type": "execute_result"
    }
   ],
   "source": [
    "query = \"\"\"\n",
    "WITH (\n",
    "    SELECT\n",
    "    MAX(toDateTime(timest))\n",
    "    FROM default.peas\n",
    ") as max_date\n",
    "SELECT\n",
    "count(st_id) as diligent_students\n",
    "FROM (\n",
    "    SELECT \n",
    "    st_id,\n",
    "    Count(subject) as solved_tasks\n",
    "    FROM default.peas\n",
    "    WHERE\n",
    "    toMonth(toDateTime(timest)) = toMonth(max_date)\n",
    "    AND toYear(toDateTime(timest)) = toYear(max_date)\n",
    "    AND correct = 1\n",
    "    GROUP BY\n",
    "    st_id\n",
    "    HAVING\n",
    "    solved_tasks >= 20\n",
    ")\n",
    "\"\"\"\n",
    "df = ph.read_clickhouse(query, connection = connection_default)\n",
    "df.head()"
   ]
  },
  {
   "cell_type": "code",
   "execution_count": 23,
   "id": "14edc6d0",
   "metadata": {},
   "outputs": [
    {
     "name": "stdout",
     "output_type": "stream",
     "text": [
      "Количество усердных студентов, решивших 20 и более задач: 136\n"
     ]
    }
   ],
   "source": [
    "print('Количество усердных студентов, решивших 20 и более задач:', df.loc[0].to_list()[0])"
   ]
  },
  {
   "cell_type": "code",
   "execution_count": 24,
   "id": "667c6ba6",
   "metadata": {},
   "outputs": [
    {
     "data": {
      "text/html": [
       "<div>\n",
       "<style scoped>\n",
       "    .dataframe tbody tr th:only-of-type {\n",
       "        vertical-align: middle;\n",
       "    }\n",
       "\n",
       "    .dataframe tbody tr th {\n",
       "        vertical-align: top;\n",
       "    }\n",
       "\n",
       "    .dataframe thead th {\n",
       "        text-align: right;\n",
       "    }\n",
       "</style>\n",
       "<table border=\"1\" class=\"dataframe\">\n",
       "  <thead>\n",
       "    <tr style=\"text-align: right;\">\n",
       "      <th></th>\n",
       "      <th>test_grp</th>\n",
       "      <th>ARPU</th>\n",
       "      <th>ARPAU</th>\n",
       "      <th>CR</th>\n",
       "      <th>active_CR</th>\n",
       "      <th>math_active_CR</th>\n",
       "    </tr>\n",
       "  </thead>\n",
       "  <tbody>\n",
       "    <tr>\n",
       "      <th>0</th>\n",
       "      <td>control</td>\n",
       "      <td>4540.983607</td>\n",
       "      <td>10393.700787</td>\n",
       "      <td>0.049180</td>\n",
       "      <td>0.045902</td>\n",
       "      <td>0.016393</td>\n",
       "    </tr>\n",
       "    <tr>\n",
       "      <th>1</th>\n",
       "      <td>pilot</td>\n",
       "      <td>11508.474576</td>\n",
       "      <td>29739.583333</td>\n",
       "      <td>0.108475</td>\n",
       "      <td>0.084746</td>\n",
       "      <td>0.020339</td>\n",
       "    </tr>\n",
       "  </tbody>\n",
       "</table>\n",
       "</div>"
      ],
      "text/plain": [
       "  test_grp          ARPU         ARPAU        CR  active_CR  math_active_CR\n",
       "0  control   4540.983607  10393.700787  0.049180   0.045902        0.016393\n",
       "1    pilot  11508.474576  29739.583333  0.108475   0.084746        0.020339"
      ]
     },
     "execution_count": 24,
     "metadata": {},
     "output_type": "execute_result"
    }
   ],
   "source": [
    "# Задача SQL 2\n",
    "query2 = \"\"\"\n",
    "SELECT\n",
    "    test_grp,\n",
    "    SUM(amount)/COUNT(st_id) as ARPU,\n",
    "    SUM(IF(active_mark = 1,amount,0))/COUNT(IF(active_mark = 1,st_id,NULL)) as ARPAU,\n",
    "    COUNT(IF(sales_num > 0, st_id,NULL))/COUNT(st_id) as CR,\n",
    "    COUNT(IF(sales_num > 0 AND active_mark = 1, st_id, NULL))/COUNT(st_id) as active_CR,\n",
    "    COUNT(IF(sales_num > 0 AND math_active_mark = 1, st_id, NULL))/COUNT(st_id) as math_active_CR\n",
    "FROM (\n",
    "    SELECT\n",
    "        c.st_id as st_id,\n",
    "        c.test_grp as test_grp,\n",
    "        l.sales_num as sales_num,\n",
    "        l.amount as amount,\n",
    "        IF(r.solved_tasks > 10, 1, 0) as active_mark,\n",
    "        IF(r.math_solved_tasks >= 2, 1, 0) as math_active_mark\n",
    "    FROM (\n",
    "            SELECT\n",
    "            st_id,\n",
    "            COUNT(sale_time) as sales_num,\n",
    "            SUM(money) as amount\n",
    "            FROM default.final_project_check\n",
    "            GROUP BY\n",
    "            st_id\n",
    "            ) as l\n",
    "        RIGHT JOIN\n",
    "        (\n",
    "            SELECT\n",
    "            *\n",
    "            FROM default.studs\n",
    "        ) as c\n",
    "        ON l.st_id = c.st_id\n",
    "        LEFT JOIN\n",
    "        (\n",
    "            SELECT\n",
    "            st_id,\n",
    "            COUNT(timest) as solved_tasks,\n",
    "            COUNT(IF(subject = 'Math',timest,NULL)) as math_solved_tasks\n",
    "            FROM default.peas\n",
    "            WHERE\n",
    "            correct = 1\n",
    "            GROUP BY\n",
    "            st_id\n",
    "            ) as r\n",
    "        ON c.st_id = r.st_id\n",
    "    )\n",
    "GROUP BY\n",
    "test_grp\n",
    "\"\"\"\n",
    "df2 = ph.read_clickhouse(query2, connection = connection_default)\n",
    "df2.head()"
   ]
  },
  {
   "cell_type": "code",
   "execution_count": 25,
   "id": "82b44114",
   "metadata": {},
   "outputs": [
    {
     "name": "stdout",
     "output_type": "stream",
     "text": [
      "ARPU control: 4541\n",
      "ARPU pilot: 11508\n",
      "\n",
      "ARPAU control: 10394\n",
      "ARPAU pilot: 29740\n",
      "\n",
      "CR control: 4.92%\n",
      "CR pilot: 10.85%\n",
      "\n",
      "active_CR control: 4.59%\n",
      "active_CR pilot: 8.47%\n",
      "\n",
      "math_active_CR control: 1.64%\n",
      "math_active_CR pilot: 2.03%\n",
      "\n"
     ]
    }
   ],
   "source": [
    "for i in ['ARPU','ARPAU']:\n",
    "    for grp in ['control','pilot']:\n",
    "        print(i +' ' + grp + ': '+ str(round(df2[df2.test_grp == grp][i].to_list()[0])))\n",
    "    print()\n",
    "    \n",
    "for i in ['CR','active_CR','math_active_CR']:\n",
    "    for grp in ['control','pilot']:\n",
    "        number = df2[df2.test_grp == grp][i].to_list()[0]\n",
    "        number = \"{:.2%}\".format(number)\n",
    "        print(i +' ' + grp + ': ' + number)\n",
    "    print()"
   ]
  },
  {
   "cell_type": "code",
   "execution_count": 26,
   "id": "8ec9d412",
   "metadata": {},
   "outputs": [
    {
     "data": {
      "image/png": "[encoded data removed]",
      "text/plain": [
       "<Figure size 1440x720 with 5 Axes>"
      ]
     },
     "metadata": {
      "needs_background": "light"
     },
     "output_type": "display_data"
    }
   ],
   "source": [
    "plt.rcParams[\"figure.figsize\"] = [20, 10]\n",
    "\n",
    "plt.subplot(2,3,1)\n",
    "sns.barplot(data = df2, x = 'test_grp', y ='CR')\n",
    "plt.title('CR в покупку')\n",
    "plt.xlabel(\"Группа\")\n",
    "plt.ylabel(\"Процентные пункты\")\n",
    "plt.grid(linestyle='--',axis = 'y') \n",
    "\n",
    "plt.subplot(2,3,2)\n",
    "sns.barplot(data = df2, x = 'test_grp', y ='active_CR')\n",
    "plt.title('CR в покупку активных студентов')\n",
    "plt.xlabel(\"Группа\")\n",
    "plt.ylabel(\"Процентные пункты\")\n",
    "plt.grid(linestyle='--',axis = 'y') \n",
    "\n",
    "plt.subplot(2,3,3)\n",
    "sns.barplot(data = df2, x = 'test_grp', y ='math_active_CR')\n",
    "plt.title('CR в покупку активных в математике студентов')\n",
    "plt.xlabel(\"Группа\")\n",
    "plt.ylabel(\"Процентные пункты\")\n",
    "plt.grid(linestyle='--',axis = 'y') \n",
    "\n",
    "plt.subplot(2,3,4)\n",
    "sns.barplot(data = df2, x = 'test_grp', y ='ARPU')\n",
    "plt.title('ARPU')\n",
    "plt.xlabel(\"Группа\")\n",
    "plt.ylabel(\"Процентные пункты\")\n",
    "plt.grid(linestyle='--',axis = 'y') \n",
    "\n",
    "plt.subplot(2,3,5)\n",
    "sns.barplot(data = df2, x = 'test_grp', y ='ARPAU')\n",
    "plt.title('ARPAU')\n",
    "plt.xlabel(\"Группа\")\n",
    "plt.ylabel(\"Процентные пункты\")\n",
    "plt.grid(linestyle='--',axis = 'y') \n",
    "\n"
   ]
  },
  {
   "cell_type": "markdown",
   "id": "17df127c",
   "metadata": {},
   "source": [
    "# <span style=\"color:blue\">Задание 3. Python<span>"
   ]
  },
  {
   "cell_type": "markdown",
   "id": "b003ed92",
   "metadata": {},
   "source": [
    "## Функция автоматической подгрузки и пересчета данных"
   ]
  },
  {
   "cell_type": "code",
   "execution_count": 27,
   "id": "671fec1c",
   "metadata": {},
   "outputs": [],
   "source": [
    "def ab_test(groups, group_add, active, checks):\n",
    "    \n",
    "    groups = pd.concat([groups, group_add])\n",
    "    groups.rename(columns = {'id':'student_id','grp':'group'}, inplace = True)\n",
    "    \n",
    "    final_df = active.merge(checks, how = 'left', on = 'student_id')\n",
    "    final_df = final_df.merge(groups, how = 'inner', on = 'student_id')\n",
    "    final_df['paid'] = final_df.rev.apply(lambda x: 1 if x > 0 else 0)\n",
    "    final_df.rev.fillna(0,inplace = True)\n",
    "    \n",
    "    metrics = final_df.groupby('group',as_index = False)\\\n",
    "                    .aggregate({'student_id':'count',\n",
    "                                'rev':'sum'})\\\n",
    "                    .rename(columns = {'student_id':'users'})\n",
    "    metrics['paying_users'] = final_df.query('paid == 1')\\\n",
    "                                .groupby('group',as_index = False)\\\n",
    "                                .agg({'student_id':'count'}).student_id\n",
    "    metrics['not_paying_users'] = final_df.query('paid == 0')\\\n",
    "                                .groupby('group',as_index = False)\\\n",
    "                                .agg({'student_id':'count'}).student_id\n",
    "    metrics['CR'] = (metrics.paying_users/metrics.users)\n",
    "    metrics['ARPU'] = (metrics.rev/metrics.users).round(2)\n",
    "    metrics['ARPPU'] = (metrics.rev/metrics.paying_users).round(2)\n",
    "    metrics = metrics[['group', 'users', 'paying_users', 'not_paying_users',  'rev','CR', 'ARPU', 'ARPPU']]\n",
    "    metrics['rev'] = metrics['rev'].round(0)\n",
    "    \n",
    "    display(\n",
    "        metrics.rename(columns = {\n",
    "        'group':'Группа',\n",
    "        'users':'Количество пользователей',\n",
    "        'paying_users':'Количество оплативших пользователей',\n",
    "        'not_paying_users':'Количество неоплативших пользователей',\n",
    "        'rev':'Выручка'\n",
    "    }))\n",
    "    \n",
    "    print()\n",
    "    \n",
    "    A = metrics.set_index('group')[['not_paying_users', 'paying_users']].loc['A'].to_list()\n",
    "    B = metrics.set_index('group')[['not_paying_users', 'paying_users']].loc['B'].to_list()\n",
    "    chi2, p, dof, ex = chi2_contingency([A, B], correction=False)\n",
    "\n",
    "    print(\"Хи-квадрат p-value: \",\"{:.2%}\".format(p))\n",
    "    if p > 0.05:\n",
    "        print('Нет оснований отклонить нулевую гипотезу')\n",
    "    else:\n",
    "        print('Есть основания отклонить основную гипотезу')\n",
    "        \n",
    "    return metrics"
   ]
  },
  {
   "cell_type": "code",
   "execution_count": 28,
   "id": "1a385ad2",
   "metadata": {},
   "outputs": [
    {
     "data": {
      "text/html": [
       "<div>\n",
       "<style scoped>\n",
       "    .dataframe tbody tr th:only-of-type {\n",
       "        vertical-align: middle;\n",
       "    }\n",
       "\n",
       "    .dataframe tbody tr th {\n",
       "        vertical-align: top;\n",
       "    }\n",
       "\n",
       "    .dataframe thead th {\n",
       "        text-align: right;\n",
       "    }\n",
       "</style>\n",
       "<table border=\"1\" class=\"dataframe\">\n",
       "  <thead>\n",
       "    <tr style=\"text-align: right;\">\n",
       "      <th></th>\n",
       "      <th>Группа</th>\n",
       "      <th>Количество пользователей</th>\n",
       "      <th>Количество оплативших пользователей</th>\n",
       "      <th>Количество неоплативших пользователей</th>\n",
       "      <th>Выручка</th>\n",
       "      <th>CR</th>\n",
       "      <th>ARPU</th>\n",
       "      <th>ARPPU</th>\n",
       "    </tr>\n",
       "  </thead>\n",
       "  <tbody>\n",
       "    <tr>\n",
       "      <th>0</th>\n",
       "      <td>A</td>\n",
       "      <td>1538</td>\n",
       "      <td>78</td>\n",
       "      <td>1460</td>\n",
       "      <td>72820.0</td>\n",
       "      <td>0.050715</td>\n",
       "      <td>47.35</td>\n",
       "      <td>933.59</td>\n",
       "    </tr>\n",
       "    <tr>\n",
       "      <th>1</th>\n",
       "      <td>B</td>\n",
       "      <td>6803</td>\n",
       "      <td>314</td>\n",
       "      <td>6489</td>\n",
       "      <td>394974.0</td>\n",
       "      <td>0.046156</td>\n",
       "      <td>58.06</td>\n",
       "      <td>1257.88</td>\n",
       "    </tr>\n",
       "  </tbody>\n",
       "</table>\n",
       "</div>"
      ],
      "text/plain": [
       "  Группа  Количество пользователей  Количество оплативших пользователей  \\\n",
       "0      A                      1538                                   78   \n",
       "1      B                      6803                                  314   \n",
       "\n",
       "   Количество неоплативших пользователей   Выручка        CR   ARPU    ARPPU  \n",
       "0                                   1460   72820.0  0.050715  47.35   933.59  \n",
       "1                                   6489  394974.0  0.046156  58.06  1257.88  "
      ]
     },
     "metadata": {},
     "output_type": "display_data"
    },
    {
     "name": "stdout",
     "output_type": "stream",
     "text": [
      "\n",
      "Хи-квадрат p-value:  44.55%\n",
      "Нет оснований отклонить нулевую гипотезу\n"
     ]
    }
   ],
   "source": [
    "url_actives = url('https://disk.yandex.ru/d/Tbs44Bm6H_FwFQ' )\n",
    "active = pd.read_csv(url_actives)\n",
    "url_checks = url('https://disk.yandex.ru/d/pH1q-VqcxXjsVA')\n",
    "checks = pd.read_csv(url_checks, sep=';')\n",
    "url_groups = url('https://disk.yandex.ru/d/UhyYx41rTt3clQ' )\n",
    "groups = pd.read_csv(url_groups, sep=';')\n",
    "url_group_add = url('https://disk.yandex.ru/d/5Kxrz02m3IBUwQ')\n",
    "group_add = pd.read_csv(url_group_add)\n",
    "\n",
    "ab_test_result = ab_test(groups, group_add,active, checks)"
   ]
  },
  {
   "cell_type": "code",
   "execution_count": 29,
   "id": "418613eb",
   "metadata": {},
   "outputs": [
    {
     "data": {
      "text/html": [
       "<div>\n",
       "<style scoped>\n",
       "    .dataframe tbody tr th:only-of-type {\n",
       "        vertical-align: middle;\n",
       "    }\n",
       "\n",
       "    .dataframe tbody tr th {\n",
       "        vertical-align: top;\n",
       "    }\n",
       "\n",
       "    .dataframe thead th {\n",
       "        text-align: right;\n",
       "    }\n",
       "</style>\n",
       "<table border=\"1\" class=\"dataframe\">\n",
       "  <thead>\n",
       "    <tr style=\"text-align: right;\">\n",
       "      <th></th>\n",
       "      <th>group</th>\n",
       "      <th>users</th>\n",
       "      <th>paying_users</th>\n",
       "      <th>not_paying_users</th>\n",
       "      <th>rev</th>\n",
       "      <th>CR</th>\n",
       "      <th>ARPU</th>\n",
       "      <th>ARPPU</th>\n",
       "    </tr>\n",
       "  </thead>\n",
       "  <tbody>\n",
       "    <tr>\n",
       "      <th>0</th>\n",
       "      <td>A</td>\n",
       "      <td>1538</td>\n",
       "      <td>78</td>\n",
       "      <td>1460</td>\n",
       "      <td>72820.0</td>\n",
       "      <td>0.050715</td>\n",
       "      <td>47.35</td>\n",
       "      <td>933.59</td>\n",
       "    </tr>\n",
       "    <tr>\n",
       "      <th>1</th>\n",
       "      <td>B</td>\n",
       "      <td>6803</td>\n",
       "      <td>314</td>\n",
       "      <td>6489</td>\n",
       "      <td>394974.0</td>\n",
       "      <td>0.046156</td>\n",
       "      <td>58.06</td>\n",
       "      <td>1257.88</td>\n",
       "    </tr>\n",
       "  </tbody>\n",
       "</table>\n",
       "</div>"
      ],
      "text/plain": [
       "  group  users  paying_users  not_paying_users       rev        CR   ARPU  \\\n",
       "0     A   1538            78              1460   72820.0  0.050715  47.35   \n",
       "1     B   6803           314              6489  394974.0  0.046156  58.06   \n",
       "\n",
       "     ARPPU  \n",
       "0   933.59  \n",
       "1  1257.88  "
      ]
     },
     "execution_count": 29,
     "metadata": {},
     "output_type": "execute_result"
    }
   ],
   "source": [
    "ab_test_result"
   ]
  },
  {
   "cell_type": "markdown",
   "id": "111c3747",
   "metadata": {},
   "source": [
    "## Функция  визуализации метрик"
   ]
  },
  {
   "cell_type": "code",
   "execution_count": 30,
   "id": "9a9a3a78",
   "metadata": {},
   "outputs": [],
   "source": [
    "def ab_test_vizualization(ab_test_result):\n",
    "    plt.rcParams[\"figure.figsize\"] = [15, 5]\n",
    "    \n",
    "    plt.subplot(1,3,1)\n",
    "    sns.barplot(data = ab_test_result, x = 'group', y ='CR')\n",
    "    plt.title('CR')\n",
    "    plt.xlabel(\"Группа\")\n",
    "    plt.ylabel(\"Процентные пункты\")\n",
    "    plt.grid(linestyle='--',axis = 'y') \n",
    "\n",
    "    plt.subplot(1,3,2)\n",
    "    sns.barplot(data = ab_test_result, x = 'group', y ='ARPU')\n",
    "    plt.title('ARPU')\n",
    "    plt.xlabel(\"Группа\")\n",
    "    plt.ylabel(\"Сумма, руб.\")\n",
    "    plt.grid(linestyle='--',axis = 'y') \n",
    "\n",
    "    plt.subplot(1,3,3)\n",
    "    sns.barplot(data = ab_test_result, x = 'group', y ='ARPPU')\n",
    "    plt.title('ARPPU')\n",
    "    plt.xlabel(\"Группа\")\n",
    "    plt.ylabel(\"Сумма, руб.\")\n",
    "    plt.grid(linestyle='--',axis = 'y') "
   ]
  },
  {
   "cell_type": "code",
   "execution_count": 31,
   "id": "b00077a9",
   "metadata": {},
   "outputs": [
    {
     "data": {
      "image/png": "[encoded data removed]",
      "text/plain": [
       "<Figure size 1080x360 with 3 Axes>"
      ]
     },
     "metadata": {
      "needs_background": "light"
     },
     "output_type": "display_data"
    }
   ],
   "source": [
    "ab_test_vizualization(ab_test_result)"
   ]
  },
  {
   "cell_type": "code",
   "execution_count": null,
   "id": "5e2d4015",
   "metadata": {},
   "outputs": [],
   "source": []
  }
 ],
 "metadata": {
  "kernelspec": {
   "display_name": "Python 3 (ipykernel)",
   "language": "python",
   "name": "python3"
  },
  "language_info": {
   "codemirror_mode": {
    "name": "ipython",
    "version": 3
   },
   "file_extension": ".py",
   "mimetype": "text/x-python",
   "name": "python",
   "nbconvert_exporter": "python",
   "pygments_lexer": "ipython3",
   "version": "3.9.12"
  }
 },
 "nbformat": 4,
 "nbformat_minor": 5
}
